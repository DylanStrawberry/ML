{
  "nbformat": 4,
  "nbformat_minor": 0,
  "metadata": {
    "colab": {
      "provenance": []
    },
    "kernelspec": {
      "name": "python3",
      "display_name": "Python 3"
    },
    "language_info": {
      "name": "python"
    }
  },
  "cells": [
    {
      "cell_type": "code",
      "execution_count": null,
      "metadata": {
        "id": "-__WT4G0414C"
      },
      "outputs": [],
      "source": [
        "import pandas as pd\n",
        "from google.colab import drive\n",
        "import matplotlib.pyplot as plt\n",
        "import numpy as np"
      ]
    },
    {
      "cell_type": "markdown",
      "source": [
        "0.) Import the Credit Card Fraud Data From CCLE"
      ],
      "metadata": {
        "id": "IVTGS7nr78H9"
      }
    },
    {
      "cell_type": "code",
      "source": [
        "df = pd.read_csv(\"fraudTest.csv\")"
      ],
      "metadata": {
        "id": "xdon3Q7g45_A"
      },
      "execution_count": null,
      "outputs": []
    },
    {
      "cell_type": "code",
      "source": [
        "df_select = df[[\"trans_date_trans_time\", \"category\", \"amt\", \"city_pop\", \"is_fraud\"]]\n",
        "\n",
        "df_select[\"trans_date_trans_time\"] = pd.to_datetime(df_select[\"trans_date_trans_time\"])\n",
        "df_select[\"time_var\"] = [i.second for i in df_select[\"trans_date_trans_time\"]]\n",
        "\n",
        "X = pd.get_dummies(df_select, [\"category\"]).drop([\"trans_date_trans_time\", \"is_fraud\"], axis = 1)\n",
        "y = df[\"is_fraud\"]"
      ],
      "metadata": {
        "colab": {
          "base_uri": "https://localhost:8080/"
        },
        "id": "24sqNPTP4-FH",
        "outputId": "284f7bbd-c828-4b6c-e489-93d593a34d5e"
      },
      "execution_count": null,
      "outputs": [
        {
          "output_type": "stream",
          "name": "stderr",
          "text": [
            "<ipython-input-15-d5842cbc8f12>:3: SettingWithCopyWarning: \n",
            "A value is trying to be set on a copy of a slice from a DataFrame.\n",
            "Try using .loc[row_indexer,col_indexer] = value instead\n",
            "\n",
            "See the caveats in the documentation: https://pandas.pydata.org/pandas-docs/stable/user_guide/indexing.html#returning-a-view-versus-a-copy\n",
            "  df_select[\"trans_date_trans_time\"] = pd.to_datetime(df_select[\"trans_date_trans_time\"])\n",
            "<ipython-input-15-d5842cbc8f12>:4: SettingWithCopyWarning: \n",
            "A value is trying to be set on a copy of a slice from a DataFrame.\n",
            "Try using .loc[row_indexer,col_indexer] = value instead\n",
            "\n",
            "See the caveats in the documentation: https://pandas.pydata.org/pandas-docs/stable/user_guide/indexing.html#returning-a-view-versus-a-copy\n",
            "  df_select[\"time_var\"] = [i.second for i in df_select[\"trans_date_trans_time\"]]\n"
          ]
        }
      ]
    },
    {
      "cell_type": "markdown",
      "source": [
        "1.) Use scikit learn preprocessing to split the data into 70/30 in out of sample"
      ],
      "metadata": {
        "id": "XKMrgRt_76xp"
      }
    },
    {
      "cell_type": "code",
      "source": [
        "from sklearn.model_selection import train_test_split\n",
        "from sklearn.preprocessing import StandardScaler"
      ],
      "metadata": {
        "id": "cP_AG6CS6ndf"
      },
      "execution_count": null,
      "outputs": []
    },
    {
      "cell_type": "code",
      "source": [
        "X_train, X_test, y_train, y_test = train_test_split(X, y, test_size = .3)"
      ],
      "metadata": {
        "id": "DCbEoQSZ6qN_"
      },
      "execution_count": null,
      "outputs": []
    },
    {
      "cell_type": "code",
      "source": [
        "X_test, X_holdout, y_test, y_holdout = train_test_split(X_test, y_test, test_size = .5)"
      ],
      "metadata": {
        "id": "A0v56tzq6sa9"
      },
      "execution_count": null,
      "outputs": []
    },
    {
      "cell_type": "code",
      "source": [
        "scaler = StandardScaler()\n",
        "X_train = scaler.fit_transform(X_train)\n",
        "X_test = scaler.transform(X_test)\n",
        "X_holdout = scaler.transform(X_holdout)"
      ],
      "metadata": {
        "id": "dzqRZBx36ugG"
      },
      "execution_count": null,
      "outputs": []
    },
    {
      "cell_type": "markdown",
      "source": [
        "2.) Make three sets of training data(Oversample, Undersample and SMOTE)"
      ],
      "metadata": {
        "id": "I4kwwBG87xIS"
      }
    },
    {
      "cell_type": "code",
      "source": [
        "from imblearn.over_sampling import RandomOverSampler\n",
        "from imblearn.under_sampling import RandomUnderSampler\n",
        "from imblearn.over_sampling import SMOTE"
      ],
      "metadata": {
        "id": "Z50kjxY46zLY"
      },
      "execution_count": null,
      "outputs": []
    },
    {
      "cell_type": "code",
      "source": [
        "ros = RandomOverSampler()\n",
        "over_X, over_y = ros.fit_resample(X_train, y_train)\n",
        "\n",
        "rus = RandomUnderSampler()\n",
        "under_X, under_y = rus.fit_resample(X_train, y_train)"
      ],
      "metadata": {
        "id": "medf1Wrc6zia"
      },
      "execution_count": null,
      "outputs": []
    },
    {
      "cell_type": "code",
      "source": [
        "ros = RandomOverSampler()\n",
        "over_X, over_y = ros.fit_resample(X_train, y_train)\n",
        "\n",
        "rus = RandomUnderSampler()\n",
        "under_X, under_y = rus.fit_resample(X_train, y_train)\n",
        "\n",
        "smote = SMOTE()\n",
        "smote_X, smote_y = smote.fit_resample(X_train, y_train)"
      ],
      "metadata": {
        "id": "wWgkKDar61UD"
      },
      "execution_count": null,
      "outputs": []
    },
    {
      "cell_type": "markdown",
      "source": [
        "3.) Train three logistic regression models"
      ],
      "metadata": {
        "id": "qWVxhDs38QbK"
      }
    },
    {
      "cell_type": "code",
      "source": [
        "from sklearn.linear_model import LogisticRegression"
      ],
      "metadata": {
        "id": "5AnhSplk8S_2"
      },
      "execution_count": null,
      "outputs": []
    },
    {
      "cell_type": "code",
      "source": [
        "over_log = LogisticRegression().fit(over_X, over_y)\n",
        "\n",
        "under_log = LogisticRegression().fit(under_X, under_y)\n",
        "\n",
        "smote_log = LogisticRegression().fit(smote_X, smote_y)"
      ],
      "metadata": {
        "id": "Sdv6No2C8bB0"
      },
      "execution_count": null,
      "outputs": []
    },
    {
      "cell_type": "markdown",
      "source": [
        "4.) Test the three models"
      ],
      "metadata": {
        "id": "ir5X3Pu88h1q"
      }
    },
    {
      "cell_type": "code",
      "source": [
        "over_log.score(X_test, y_test)"
      ],
      "metadata": {
        "colab": {
          "base_uri": "https://localhost:8080/"
        },
        "id": "NXF_iCug8eWI",
        "outputId": "f39c79bf-e968-4c3e-ff55-c82a0c267239"
      },
      "execution_count": null,
      "outputs": [
        {
          "output_type": "execute_result",
          "data": {
            "text/plain": [
              "0.9199716883802395"
            ]
          },
          "metadata": {},
          "execution_count": 26
        }
      ]
    },
    {
      "cell_type": "code",
      "source": [
        "under_log.score(X_test, y_test)"
      ],
      "metadata": {
        "colab": {
          "base_uri": "https://localhost:8080/"
        },
        "id": "tAHicUc78l0R",
        "outputId": "85d09c0d-1f43-44e9-f45e-6f2005a95cad"
      },
      "execution_count": null,
      "outputs": [
        {
          "output_type": "execute_result",
          "data": {
            "text/plain": [
              "0.9183041819621393"
            ]
          },
          "metadata": {},
          "execution_count": 27
        }
      ]
    },
    {
      "cell_type": "code",
      "source": [
        "smote_log.score(X_test, y_test)"
      ],
      "metadata": {
        "colab": {
          "base_uri": "https://localhost:8080/"
        },
        "id": "Z_z57N7-8n9V",
        "outputId": "db8ade65-c72f-40c1-e230-c332309f2394"
      },
      "execution_count": null,
      "outputs": [
        {
          "output_type": "execute_result",
          "data": {
            "text/plain": [
              "0.9143813431224358"
            ]
          },
          "metadata": {},
          "execution_count": 28
        }
      ]
    },
    {
      "cell_type": "code",
      "source": [
        "# We see SMOTE performing with higher accuracy but is ACCURACY really the best measure?"
      ],
      "metadata": {
        "id": "qOim8t5e8rE0"
      },
      "execution_count": null,
      "outputs": []
    },
    {
      "cell_type": "markdown",
      "source": [
        "5.) Which performed best in Out of Sample metrics?"
      ],
      "metadata": {
        "id": "kDUAdmao8xep"
      }
    },
    {
      "cell_type": "code",
      "source": [
        "# Sensitivity here in credit fraud is more important as seen from last class"
      ],
      "metadata": {
        "id": "ey3S2lwK8uPd"
      },
      "execution_count": null,
      "outputs": []
    },
    {
      "cell_type": "code",
      "source": [
        "from sklearn.metrics import confusion_matrix"
      ],
      "metadata": {
        "id": "gf_KAxX080h3"
      },
      "execution_count": null,
      "outputs": []
    },
    {
      "cell_type": "code",
      "source": [
        "y_true = y_test"
      ],
      "metadata": {
        "id": "d0gQVSPr82aU"
      },
      "execution_count": null,
      "outputs": []
    },
    {
      "cell_type": "code",
      "source": [
        "y_pred = over_log.predict(X_test)\n",
        "cm = confusion_matrix(y_true, y_pred)\n",
        "cm"
      ],
      "metadata": {
        "colab": {
          "base_uri": "https://localhost:8080/"
        },
        "id": "DRYzYqJF84Ya",
        "outputId": "1544d47c-2d33-4612-b0f9-a158f814a4aa"
      },
      "execution_count": null,
      "outputs": [
        {
          "output_type": "execute_result",
          "data": {
            "text/plain": [
              "array([[76442,  6598],\n",
              "       [   73,   245]])"
            ]
          },
          "metadata": {},
          "execution_count": 32
        }
      ]
    },
    {
      "cell_type": "code",
      "source": [
        "print(\"Over Sample Sensitivity : \", cm[1,1] /( cm[1,0] + cm[1,1]))"
      ],
      "metadata": {
        "colab": {
          "base_uri": "https://localhost:8080/"
        },
        "id": "CHs-CoGA85-Z",
        "outputId": "6123b3f0-f3c3-4f97-b439-b3a310ebf109"
      },
      "execution_count": null,
      "outputs": [
        {
          "output_type": "stream",
          "name": "stdout",
          "text": [
            "Over Sample Sensitivity :  0.7704402515723271\n"
          ]
        }
      ]
    },
    {
      "cell_type": "code",
      "source": [
        "y_pred = under_log.predict(X_test)\n",
        "cm = confusion_matrix(y_true, y_pred)\n",
        "cm"
      ],
      "metadata": {
        "colab": {
          "base_uri": "https://localhost:8080/"
        },
        "id": "-ajqBAqj89Bx",
        "outputId": "a0bfd964-157e-49f3-e933-7db3b41f4791"
      },
      "execution_count": null,
      "outputs": [
        {
          "output_type": "execute_result",
          "data": {
            "text/plain": [
              "array([[76302,  6738],\n",
              "       [   72,   246]])"
            ]
          },
          "metadata": {},
          "execution_count": 34
        }
      ]
    },
    {
      "cell_type": "code",
      "source": [
        "print(\"Under Sample Sensitivity : \", cm[1,1] /( cm[1,0] + cm[1,1]))"
      ],
      "metadata": {
        "colab": {
          "base_uri": "https://localhost:8080/"
        },
        "id": "uaFArnlr9FVM",
        "outputId": "1c415e68-5441-4359-b0dd-7b2273927b4b"
      },
      "execution_count": null,
      "outputs": [
        {
          "output_type": "stream",
          "name": "stdout",
          "text": [
            "Under Sample Sensitivity :  0.7735849056603774\n"
          ]
        }
      ]
    },
    {
      "cell_type": "code",
      "source": [
        "y_pred = smote_log.predict(X_test)\n",
        "cm = confusion_matrix(y_true, y_pred)\n",
        "cm"
      ],
      "metadata": {
        "colab": {
          "base_uri": "https://localhost:8080/"
        },
        "id": "v-_Dvlu-9HiN",
        "outputId": "6287e773-cefa-4d29-b6f8-f82fcc5cb755"
      },
      "execution_count": null,
      "outputs": [
        {
          "output_type": "execute_result",
          "data": {
            "text/plain": [
              "array([[75976,  7064],\n",
              "       [   73,   245]])"
            ]
          },
          "metadata": {},
          "execution_count": 36
        }
      ]
    },
    {
      "cell_type": "code",
      "source": [
        "print(\"SMOTE Sample Sensitivity : \", cm[1,1] /( cm[1,0] + cm[1,1]))"
      ],
      "metadata": {
        "colab": {
          "base_uri": "https://localhost:8080/"
        },
        "id": "6BFuwzXU9J8N",
        "outputId": "5c2c2fbb-4c6b-42b7-a46f-806dd6dce5e9"
      },
      "execution_count": null,
      "outputs": [
        {
          "output_type": "stream",
          "name": "stdout",
          "text": [
            "SMOTE Sample Sensitivity :  0.7704402515723271\n"
          ]
        }
      ]
    },
    {
      "cell_type": "code",
      "source": [],
      "metadata": {
        "id": "hRFCJbYM9Sd2"
      },
      "execution_count": null,
      "outputs": []
    },
    {
      "cell_type": "markdown",
      "source": [
        "6.) Pick two features and plot the two classes before and after SMOTE."
      ],
      "metadata": {
        "id": "TngTQ3QE9WRV"
      }
    },
    {
      "cell_type": "code",
      "source": [
        "X_train = pd.DataFrame(X_train)\n",
        "y_train = pd.DataFrame(y_train)"
      ],
      "metadata": {
        "id": "E5UhEfRl9rm2"
      },
      "execution_count": null,
      "outputs": []
    },
    {
      "cell_type": "code",
      "source": [
        "raw_temp = pd.concat([X_train, y_train], axis =1)"
      ],
      "metadata": {
        "id": "5oH2yWjY9WvJ"
      },
      "execution_count": null,
      "outputs": []
    },
    {
      "cell_type": "code",
      "source": [
        "raw_temp.columns = list(X.columns) + [\"is_fraud\"]"
      ],
      "metadata": {
        "id": "DC-eb1hf9hFC"
      },
      "execution_count": null,
      "outputs": []
    },
    {
      "cell_type": "code",
      "source": [
        "#plt.scatter(raw_temp[raw_temp[\"is_fraud\"] == 0][\"amt\"], raw_temp[raw_temp[\"is_fraud\"] == 0][\"city_pop\"])\n",
        "\n",
        "plt.scatter(raw_temp[raw_temp[\"is_fraud\"] == 1][\"amt\"], raw_temp[raw_temp[\"is_fraud\"] == 1][\"city_pop\"])\n",
        "plt.legend([\"Fraud\", \"Not Fraud\"])\n",
        "plt.xlabel(\"Amount\")\n",
        "plt.ylabel(\"Population\")\n",
        "\n",
        "plt.show()"
      ],
      "metadata": {
        "colab": {
          "base_uri": "https://localhost:8080/",
          "height": 449
        },
        "id": "0VxmKbGm9ZuN",
        "outputId": "11cc1a19-9e57-4207-d3d0-683e8421a0f0"
      },
      "execution_count": null,
      "outputs": [
        {
          "output_type": "display_data",
          "data": {
            "text/plain": [
              "<Figure size 640x480 with 1 Axes>"
            ],
            "image/png": "[encoded data removed]"
          },
          "metadata": {}
        }
      ]
    },
    {
      "cell_type": "code",
      "source": [
        "smote_X = pd.DataFrame(smote_X)\n",
        "smote_y = pd.DataFrame(smote_y)"
      ],
      "metadata": {
        "id": "ZWxqKkI5-WLH"
      },
      "execution_count": null,
      "outputs": []
    },
    {
      "cell_type": "code",
      "source": [
        "raw_temp = pd.concat([smote_X, smote_y], axis =1)"
      ],
      "metadata": {
        "id": "2LHQOxDj-RiT"
      },
      "execution_count": null,
      "outputs": []
    },
    {
      "cell_type": "code",
      "source": [
        "raw_temp.columns = list(X.columns) + [\"is_fraud\"]"
      ],
      "metadata": {
        "id": "8xHhfrJB-mKs"
      },
      "execution_count": null,
      "outputs": []
    },
    {
      "cell_type": "code",
      "source": [
        "#plt.scatter(raw_temp[raw_temp[\"is_fraud\"] == 0][\"amt\"], raw_temp[raw_temp[\"is_fraud\"] == 0][\"city_pop\"])\n",
        "\n",
        "plt.scatter(raw_temp[raw_temp[\"is_fraud\"] == 1][\"amt\"], raw_temp[raw_temp[\"is_fraud\"] == 1][\"city_pop\"])\n",
        "plt.legend([ \"Not Fraud\", \"Fraud\"])\n",
        "plt.xlabel(\"Amount\")\n",
        "plt.ylabel(\"Population\")\n",
        "\n",
        "plt.show()"
      ],
      "metadata": {
        "colab": {
          "base_uri": "https://localhost:8080/",
          "height": 505
        },
        "id": "bZIOLSUD-Rk4",
        "outputId": "e398ec93-cc9e-4513-e7b8-d6c60fb400c9"
      },
      "execution_count": null,
      "outputs": [
        {
          "output_type": "stream",
          "name": "stderr",
          "text": [
            "/usr/local/lib/python3.10/dist-packages/IPython/core/pylabtools.py:151: UserWarning: Creating legend with loc=\"best\" can be slow with large amounts of data.\n",
            "  fig.canvas.print_figure(bytes_io, **kw)\n"
          ]
        },
        {
          "output_type": "display_data",
          "data": {
            "text/plain": [
              "<Figure size 640x480 with 1 Axes>"
            ],
            "image/png": "[encoded data removed]"
          },
          "metadata": {}
        }
      ]
    },
    {
      "cell_type": "markdown",
      "source": [
        "7.) We want to compare oversampling, Undersampling and SMOTE across our 3 models (Logistic Regression, Logistic Regression Lasso and Decision Trees).\n",
        "Make a dataframe that has a dual index and 9 Rows.\n",
        "Calculate: Sensitivity, Specificity, Precision, Recall and F1 score. for out of sample data.\n",
        "Notice any patterns across perfomance for this model. Does one totally out perform the others IE. over/under/smote or does a model perform better DT, Lasso, LR?\n",
        "Choose what you think is the best model and why. test on Holdout"
      ],
      "metadata": {
        "id": "-mtJB9jZ_G4E"
      }
    },
    {
      "cell_type": "code",
      "source": [
        "from sklearn.tree import DecisionTreeClassifier\n",
        "from sklearn.metrics import confusion_matrix, precision_score, recall_score, f1_score\n",
        "import pandas as pd"
      ],
      "metadata": {
        "id": "37FjMz2a-Rnw"
      },
      "execution_count": null,
      "outputs": []
    },
    {
      "cell_type": "code",
      "source": [
        "from imblearn.over_sampling import RandomOverSampler\n",
        "from imblearn.under_sampling import RandomUnderSampler\n",
        "from imblearn.over_sampling import SMOTE"
      ],
      "metadata": {
        "id": "evtBUN05-Rp6"
      },
      "execution_count": null,
      "outputs": []
    },
    {
      "cell_type": "code",
      "source": [
        "resampling_methods = {\n",
        "    \"over\" : RandomOverSampler(),\n",
        "    \"under\" : RandomUnderSampler(),\n",
        "    \"smote\" : SMOTE()\n",
        "}\n",
        "\n",
        "model_configs = {\n",
        "    \"LOG\" : LogisticRegression(),\n",
        "    \"LASSO\" : LogisticRegression(penalty = \"l1\", C = .5, solver = \"liblinear\"), # C is the inverse of the regularization strength, the regularization strength is also known as lambda\n",
        "    \"DicisionTree\" : DecisionTreeClassifier()\n",
        "}"
      ],
      "metadata": {
        "id": "NPYzZ2oC-RuU"
      },
      "execution_count": null,
      "outputs": []
    },
    {
      "cell_type": "code",
      "source": [
        "trained_models = {}"
      ],
      "metadata": {
        "id": "AwW00HzkAg2g"
      },
      "execution_count": null,
      "outputs": []
    },
    {
      "cell_type": "code",
      "source": [
        "\n",
        "def calc_perf_metrics(y_true, y_pred):\n",
        "\n",
        "\n",
        "    tn, fp, fn, tp = confusion_matrix(y_true, y_pred).ravel()\n",
        "\n",
        "    print(f\"Precision : {tp / (tp + fp)}\")\n",
        "    print(f\"Recall : {tp / (tp + fn)}\")\n",
        "    print(f\"F1 Score : {2 * (tp / (tp + fp) * tp / (tp + fn)) / (tp / (tp + fp) + tp / (tp + fn))}\")"
      ],
      "metadata": {
        "id": "QX-g-AxdAkWL"
      },
      "execution_count": null,
      "outputs": []
    },
    {
      "cell_type": "code",
      "source": [
        "for resample_key, resampler in resampling_methods.items():\n",
        "    resample_X, resample_y = resampler.fit_resample(X_train, y_train)\n",
        "\n",
        "    for model_name, model in model_configs.items():\n",
        "        combined_key = f\"{resample_key}_{model_name}\"\n",
        "        trained_models[combined_key] = model.fit(resample_X, resample_y)\n",
        "\n",
        "        print(f\"{combined_key} : {trained_models[combined_key].score(X_test, y_test)}\")\n",
        "        y_pred = trained_models[combined_key].predict(X_test)\n",
        "        y_true = y_test\n",
        "        calc_perf_metrics(y_true, y_pred)\n",
        "        print(\"\\n\\n\")"
      ],
      "metadata": {
        "colab": {
          "base_uri": "https://localhost:8080/"
        },
        "id": "f73jEs42Angy",
        "outputId": "442b11e8-99ce-4617-d6d3-4b0303aee820"
      },
      "execution_count": null,
      "outputs": [
        {
          "output_type": "stream",
          "name": "stderr",
          "text": [
            "/usr/local/lib/python3.10/dist-packages/sklearn/utils/validation.py:1143: DataConversionWarning: A column-vector y was passed when a 1d array was expected. Please change the shape of y to (n_samples, ), for example using ravel().\n",
            "  y = column_or_1d(y, warn=True)\n"
          ]
        },
        {
          "output_type": "stream",
          "name": "stdout",
          "text": [
            "over_LOG : 0.9163127714196598\n",
            "Precision : 0.0342753217683268\n",
            "Recall : 0.7704402515723271\n",
            "F1 Score : 0.06563085989820518\n",
            "\n",
            "\n",
            "\n"
          ]
        },
        {
          "output_type": "stream",
          "name": "stderr",
          "text": [
            "/usr/local/lib/python3.10/dist-packages/sklearn/utils/validation.py:1143: DataConversionWarning: A column-vector y was passed when a 1d array was expected. Please change the shape of y to (n_samples, ), for example using ravel().\n",
            "  y = column_or_1d(y, warn=True)\n"
          ]
        },
        {
          "output_type": "stream",
          "name": "stdout",
          "text": [
            "over_LASSO : 0.9163607572158641\n",
            "Precision : 0.03429451287793953\n",
            "Recall : 0.7704402515723271\n",
            "F1 Score : 0.06566604127579738\n",
            "\n",
            "\n",
            "\n",
            "over_DicisionTree : 0.9970848628805874\n",
            "Precision : 0.6245847176079734\n",
            "Recall : 0.5911949685534591\n",
            "F1 Score : 0.6074313408723748\n",
            "\n",
            "\n",
            "\n",
            "under_LOG : 0.8921159336836296\n",
            "Precision : 0.027041762076109477\n",
            "Recall : 0.779874213836478\n",
            "F1 Score : 0.052271050690272956\n",
            "\n",
            "\n",
            "\n",
            "under_LASSO : 0.8958588257875669\n",
            "Precision : 0.02799413026300937\n",
            "Recall : 0.779874213836478\n",
            "F1 Score : 0.05404816388798083\n",
            "\n",
            "\n",
            "\n",
            "under_DicisionTree : 0.9432567959883874\n",
            "Precision : 0.05968063872255489\n",
            "Recall : 0.940251572327044\n",
            "F1 Score : 0.11223723723723725\n",
            "\n",
            "\n",
            "\n"
          ]
        },
        {
          "output_type": "stream",
          "name": "stderr",
          "text": [
            "/usr/local/lib/python3.10/dist-packages/sklearn/utils/validation.py:1143: DataConversionWarning: A column-vector y was passed when a 1d array was expected. Please change the shape of y to (n_samples, ), for example using ravel().\n",
            "  y = column_or_1d(y, warn=True)\n",
            "/usr/local/lib/python3.10/dist-packages/sklearn/utils/validation.py:1143: DataConversionWarning: A column-vector y was passed when a 1d array was expected. Please change the shape of y to (n_samples, ), for example using ravel().\n",
            "  y = column_or_1d(y, warn=True)\n",
            "/usr/local/lib/python3.10/dist-packages/sklearn/utils/validation.py:1143: DataConversionWarning: A column-vector y was passed when a 1d array was expected. Please change the shape of y to (n_samples, ), for example using ravel().\n",
            "  y = column_or_1d(y, warn=True)\n"
          ]
        },
        {
          "output_type": "stream",
          "name": "stdout",
          "text": [
            "smote_LOG : 0.9142733750809761\n",
            "Precision : 0.033479092648264555\n",
            "Recall : 0.7704402515723271\n",
            "F1 Score : 0.06416972236773179\n",
            "\n",
            "\n",
            "\n"
          ]
        },
        {
          "output_type": "stream",
          "name": "stderr",
          "text": [
            "/usr/local/lib/python3.10/dist-packages/sklearn/utils/validation.py:1143: DataConversionWarning: A column-vector y was passed when a 1d array was expected. Please change the shape of y to (n_samples, ), for example using ravel().\n",
            "  y = column_or_1d(y, warn=True)\n"
          ]
        },
        {
          "output_type": "stream",
          "name": "stdout",
          "text": [
            "smote_LASSO : 0.9142853715300271\n",
            "Precision : 0.03348366817001503\n",
            "Recall : 0.7704402515723271\n",
            "F1 Score : 0.06417812704649639\n",
            "\n",
            "\n",
            "\n",
            "smote_DicisionTree : 0.9924902228940233\n",
            "Precision : 0.30256410256410254\n",
            "Recall : 0.7421383647798742\n",
            "F1 Score : 0.429872495446266\n",
            "\n",
            "\n",
            "\n"
          ]
        }
      ]
    },
    {
      "cell_type": "markdown",
      "source": [
        "I will choose the over_DicisionTree model, because it has the highest F1 score.\n",
        "\n"
      ],
      "metadata": {
        "id": "08WcN68X7Voz"
      }
    },
    {
      "cell_type": "code",
      "source": [],
      "metadata": {
        "id": "COjwVN1IAp2d"
      },
      "execution_count": null,
      "outputs": []
    }
  ]
}